{
 "cells": [
  {
   "cell_type": "markdown",
   "metadata": {},
   "source": [
    "Info about data - Source "
   ]
  },
  {
   "cell_type": "code",
   "execution_count": 1,
   "metadata": {},
   "outputs": [],
   "source": [
    "from collections import Counter\n",
    "import numpy as np\n",
    "import matplotlib.pyplot as plt\n",
    "import pandas as pd\n",
    "from pandas_profiling import ProfileReport\n",
    "import re\n",
    "import seaborn as sns\n",
    "from wordcloud import WordCloud\n",
    "from pathlib import Path\n",
    "\n",
    "import warnings\n",
    "warnings.filterwarnings(action='ignore')"
   ]
  },
  {
   "cell_type": "code",
   "execution_count": 2,
   "metadata": {},
   "outputs": [],
   "source": [
    "rawd = pd.read_csv(r\"D:\\A.AI.ML\\Projects\\flipkart_sales\\artefacts\\raw\\Flipkart_Mobiles.csv\")\n",
    "df = rawd.copy()"
   ]
  },
  {
   "cell_type": "markdown",
   "metadata": {},
   "source": [
    "Checking the data information"
   ]
  },
  {
   "cell_type": "code",
   "execution_count": 6,
   "metadata": {},
   "outputs": [
    {
     "name": "stdout",
     "output_type": "stream",
     "text": [
      "<class 'pandas.core.frame.DataFrame'>\n",
      "RangeIndex: 3114 entries, 0 to 3113\n",
      "Data columns (total 8 columns):\n",
      " #   Column          Non-Null Count  Dtype  \n",
      "---  ------          --------------  -----  \n",
      " 0   Brand           3114 non-null   object \n",
      " 1   Model           3114 non-null   object \n",
      " 2   Color           3114 non-null   object \n",
      " 3   Memory          3071 non-null   object \n",
      " 4   Storage         3075 non-null   object \n",
      " 5   Rating          2970 non-null   float64\n",
      " 6   Selling Price   3114 non-null   int64  \n",
      " 7   Original Price  3114 non-null   int64  \n",
      "dtypes: float64(1), int64(2), object(5)\n",
      "memory usage: 194.8+ KB\n"
     ]
    }
   ],
   "source": [
    "df.info()"
   ]
  },
  {
   "cell_type": "markdown",
   "metadata": {},
   "source": [
    "* Records 3114\n",
    "* Columns 8 \n",
    "* Brand, Model, Color, Memory, Storage - Object \n",
    "* Memory and Storage should possibly be Int\n",
    "* Memory (1.38%), Storage(1.25%) and Rating(4.62%) have missing values \n"
   ]
  },
  {
   "cell_type": "code",
   "execution_count": 36,
   "metadata": {},
   "outputs": [
    {
     "data": {
      "text/plain": [
       "108"
      ]
     },
     "execution_count": 36,
     "metadata": {},
     "output_type": "execute_result"
    }
   ],
   "source": [
    "df.duplicated().sum()"
   ]
  },
  {
   "cell_type": "code",
   "execution_count": 38,
   "metadata": {},
   "outputs": [],
   "source": [
    "df.drop_duplicates(inplace = True)"
   ]
  },
  {
   "cell_type": "code",
   "execution_count": 39,
   "metadata": {},
   "outputs": [
    {
     "data": {
      "text/html": [
       "<div>\n",
       "<style scoped>\n",
       "    .dataframe tbody tr th:only-of-type {\n",
       "        vertical-align: middle;\n",
       "    }\n",
       "\n",
       "    .dataframe tbody tr th {\n",
       "        vertical-align: top;\n",
       "    }\n",
       "\n",
       "    .dataframe thead th {\n",
       "        text-align: right;\n",
       "    }\n",
       "</style>\n",
       "<table border=\"1\" class=\"dataframe\">\n",
       "  <thead>\n",
       "    <tr style=\"text-align: right;\">\n",
       "      <th></th>\n",
       "      <th>Brand</th>\n",
       "      <th>Model</th>\n",
       "      <th>Color</th>\n",
       "      <th>Memory</th>\n",
       "      <th>Storage</th>\n",
       "    </tr>\n",
       "  </thead>\n",
       "  <tbody>\n",
       "    <tr>\n",
       "      <th>0</th>\n",
       "      <td>OPPO</td>\n",
       "      <td>A53</td>\n",
       "      <td>Moonlight Black</td>\n",
       "      <td>4 GB</td>\n",
       "      <td>64 GB</td>\n",
       "    </tr>\n",
       "    <tr>\n",
       "      <th>1</th>\n",
       "      <td>OPPO</td>\n",
       "      <td>A53</td>\n",
       "      <td>Mint Cream</td>\n",
       "      <td>4 GB</td>\n",
       "      <td>64 GB</td>\n",
       "    </tr>\n",
       "    <tr>\n",
       "      <th>2</th>\n",
       "      <td>OPPO</td>\n",
       "      <td>A53</td>\n",
       "      <td>Moonlight Black</td>\n",
       "      <td>6 GB</td>\n",
       "      <td>128 GB</td>\n",
       "    </tr>\n",
       "    <tr>\n",
       "      <th>3</th>\n",
       "      <td>OPPO</td>\n",
       "      <td>A53</td>\n",
       "      <td>Mint Cream</td>\n",
       "      <td>6 GB</td>\n",
       "      <td>128 GB</td>\n",
       "    </tr>\n",
       "    <tr>\n",
       "      <th>4</th>\n",
       "      <td>OPPO</td>\n",
       "      <td>A53</td>\n",
       "      <td>Electric Black</td>\n",
       "      <td>4 GB</td>\n",
       "      <td>64 GB</td>\n",
       "    </tr>\n",
       "  </tbody>\n",
       "</table>\n",
       "</div>"
      ],
      "text/plain": [
       "  Brand Model            Color Memory Storage\n",
       "0  OPPO   A53  Moonlight Black   4 GB   64 GB\n",
       "1  OPPO   A53       Mint Cream   4 GB   64 GB\n",
       "2  OPPO   A53  Moonlight Black   6 GB  128 GB\n",
       "3  OPPO   A53       Mint Cream   6 GB  128 GB\n",
       "4  OPPO   A53   Electric Black   4 GB   64 GB"
      ]
     },
     "execution_count": 39,
     "metadata": {},
     "output_type": "execute_result"
    }
   ],
   "source": [
    "df[['Brand', 'Model', 'Color', 'Memory', 'Storage']].head()"
   ]
  },
  {
   "cell_type": "markdown",
   "metadata": {},
   "source": [
    "* Memory and Storage could be converted into a common nummerical format. In our data we have more GB values compared t o MB for  Memory and Storage. Hence we will convert all MBs to corresponding GBs by dividing the values by 1024. "
   ]
  },
  {
   "cell_type": "markdown",
   "metadata": {},
   "source": [
    "Missing Values"
   ]
  },
  {
   "cell_type": "code",
   "execution_count": 40,
   "metadata": {},
   "outputs": [
    {
     "data": {
      "text/html": [
       "<div>\n",
       "<style scoped>\n",
       "    .dataframe tbody tr th:only-of-type {\n",
       "        vertical-align: middle;\n",
       "    }\n",
       "\n",
       "    .dataframe tbody tr th {\n",
       "        vertical-align: top;\n",
       "    }\n",
       "\n",
       "    .dataframe thead th {\n",
       "        text-align: right;\n",
       "    }\n",
       "</style>\n",
       "<table border=\"1\" class=\"dataframe\">\n",
       "  <thead>\n",
       "    <tr style=\"text-align: right;\">\n",
       "      <th></th>\n",
       "      <th>Memory</th>\n",
       "      <th>Storage</th>\n",
       "      <th>Rating</th>\n",
       "      <th>Selling Price</th>\n",
       "    </tr>\n",
       "  </thead>\n",
       "  <tbody>\n",
       "    <tr>\n",
       "      <th>0</th>\n",
       "      <td>4 GB</td>\n",
       "      <td>64 GB</td>\n",
       "      <td>4.5</td>\n",
       "      <td>11990</td>\n",
       "    </tr>\n",
       "    <tr>\n",
       "      <th>1</th>\n",
       "      <td>4 GB</td>\n",
       "      <td>64 GB</td>\n",
       "      <td>4.5</td>\n",
       "      <td>11990</td>\n",
       "    </tr>\n",
       "    <tr>\n",
       "      <th>2</th>\n",
       "      <td>6 GB</td>\n",
       "      <td>128 GB</td>\n",
       "      <td>4.3</td>\n",
       "      <td>13990</td>\n",
       "    </tr>\n",
       "    <tr>\n",
       "      <th>3</th>\n",
       "      <td>6 GB</td>\n",
       "      <td>128 GB</td>\n",
       "      <td>4.3</td>\n",
       "      <td>13990</td>\n",
       "    </tr>\n",
       "    <tr>\n",
       "      <th>4</th>\n",
       "      <td>4 GB</td>\n",
       "      <td>64 GB</td>\n",
       "      <td>4.5</td>\n",
       "      <td>11990</td>\n",
       "    </tr>\n",
       "    <tr>\n",
       "      <th>...</th>\n",
       "      <td>...</td>\n",
       "      <td>...</td>\n",
       "      <td>...</td>\n",
       "      <td>...</td>\n",
       "    </tr>\n",
       "    <tr>\n",
       "      <th>2801</th>\n",
       "      <td>6 GB</td>\n",
       "      <td>128 GB</td>\n",
       "      <td>4.3</td>\n",
       "      <td>25990</td>\n",
       "    </tr>\n",
       "    <tr>\n",
       "      <th>2802</th>\n",
       "      <td>6 GB</td>\n",
       "      <td>128 GB</td>\n",
       "      <td>4.3</td>\n",
       "      <td>25489</td>\n",
       "    </tr>\n",
       "    <tr>\n",
       "      <th>2803</th>\n",
       "      <td>8 GB</td>\n",
       "      <td>128 GB</td>\n",
       "      <td>4.3</td>\n",
       "      <td>27239</td>\n",
       "    </tr>\n",
       "    <tr>\n",
       "      <th>2804</th>\n",
       "      <td>8 GB</td>\n",
       "      <td>128 GB</td>\n",
       "      <td>4.2</td>\n",
       "      <td>22989</td>\n",
       "    </tr>\n",
       "    <tr>\n",
       "      <th>2805</th>\n",
       "      <td>8 GB</td>\n",
       "      <td>128 GB</td>\n",
       "      <td>4.2</td>\n",
       "      <td>20350</td>\n",
       "    </tr>\n",
       "  </tbody>\n",
       "</table>\n",
       "<p>2806 rows × 4 columns</p>\n",
       "</div>"
      ],
      "text/plain": [
       "     Memory Storage  Rating  Selling Price\n",
       "0      4 GB   64 GB     4.5          11990\n",
       "1      4 GB   64 GB     4.5          11990\n",
       "2      6 GB  128 GB     4.3          13990\n",
       "3      6 GB  128 GB     4.3          13990\n",
       "4      4 GB   64 GB     4.5          11990\n",
       "...     ...     ...     ...            ...\n",
       "2801   6 GB  128 GB     4.3          25990\n",
       "2802   6 GB  128 GB     4.3          25489\n",
       "2803   8 GB  128 GB     4.3          27239\n",
       "2804   8 GB  128 GB     4.2          22989\n",
       "2805   8 GB  128 GB     4.2          20350\n",
       "\n",
       "[2806 rows x 4 columns]"
      ]
     },
     "execution_count": 40,
     "metadata": {},
     "output_type": "execute_result"
    }
   ],
   "source": [
    "df_non_miss = df.dropna().reset_index(drop = True)\n",
    "df_non_miss = df_non_miss[['Memory', 'Storage', 'Rating', 'Selling Price']]\n",
    "\n",
    "df_non_miss"
   ]
  },
  {
   "cell_type": "code",
   "execution_count": 41,
   "metadata": {},
   "outputs": [
    {
     "data": {
      "text/plain": [
       "Memory\n",
       "1 GB       12616.057592\n",
       "1.5 GB     12928.793103\n",
       "10 MB       2062.666667\n",
       "100 MB      1949.000000\n",
       "12 GB      63408.836364\n",
       "128 MB      1450.000000\n",
       "153 MB      1549.000000\n",
       "16 GB     116999.000000\n",
       "16 MB       3080.166667\n",
       "2 GB       17367.317549\n",
       "2 MB        2299.500000\n",
       "3 GB       18077.742358\n",
       "30 MB       3400.000000\n",
       "32 MB       2842.857143\n",
       "4 GB       19988.885222\n",
       "4 MB        1801.513514\n",
       "46 MB       2949.500000\n",
       "4GB        94449.104762\n",
       "512 MB      6264.217391\n",
       "6 GB       25085.000000\n",
       "64 MB       3496.285714\n",
       "768 MB      6854.833333\n",
       "8 GB       33334.683230\n",
       "8 MB        2461.555556\n",
       "Name: Selling Price, dtype: float64"
      ]
     },
     "execution_count": 41,
     "metadata": {},
     "output_type": "execute_result"
    }
   ],
   "source": [
    "df_non_miss.groupby('Memory')['Selling Price'].mean()"
   ]
  },
  {
   "cell_type": "code",
   "execution_count": 42,
   "metadata": {},
   "outputs": [
    {
     "data": {
      "text/plain": [
       "Storage\n",
       "1 TB                     167915.000000\n",
       "10 MB                      1599.000000\n",
       "100 MB                     2724.000000\n",
       "128 GB                    29306.058739\n",
       "128 MB                     3468.272727\n",
       "129 GB                    22427.000000\n",
       "130 GB                    22549.500000\n",
       "140 MB                     5999.000000\n",
       "153 MB                     1549.000000\n",
       "16 GB                     12939.987097\n",
       "16 MB                      2389.444444\n",
       "2 MB                       2460.653846\n",
       "256 GB                    63496.958974\n",
       "256 MB                     6597.500000\n",
       "32 GB                     14436.969754\n",
       "4 GB                       7582.303571\n",
       "4 MB                       1732.000000\n",
       "512 GB                   123133.138889\n",
       "512 MB                     3599.500000\n",
       "64 GB                     20773.750681\n",
       "64 MB                      3430.000000\n",
       "8 GB                       8309.330827\n",
       "8 MB                       1612.500000\n",
       "Expandable Upto 16 GB      2717.714286\n",
       "Expandable Upto 32 GB      3861.400000\n",
       "Name: Selling Price, dtype: float64"
      ]
     },
     "execution_count": 42,
     "metadata": {},
     "output_type": "execute_result"
    }
   ],
   "source": [
    "df_non_miss.groupby('Storage')['Selling Price'].mean()"
   ]
  },
  {
   "cell_type": "code",
   "execution_count": 43,
   "metadata": {},
   "outputs": [
    {
     "data": {
      "text/plain": [
       "Rating\n",
       "2.3     11999.000000\n",
       "2.4     14939.000000\n",
       "2.7      9627.000000\n",
       "2.8      9306.000000\n",
       "3.0     60739.666667\n",
       "3.1      7070.000000\n",
       "3.2     17949.333333\n",
       "3.3     11770.500000\n",
       "3.4      6029.666667\n",
       "3.5      8360.470588\n",
       "3.6      9193.088235\n",
       "3.7      9941.523077\n",
       "3.8     10566.401786\n",
       "3.9     13176.583333\n",
       "4.0     14621.922705\n",
       "4.1     13388.826446\n",
       "4.2     14184.903846\n",
       "4.3     19178.959276\n",
       "4.4     23437.310484\n",
       "4.5     34940.989726\n",
       "4.6     74852.815789\n",
       "4.7    126317.795455\n",
       "4.8     17499.000000\n",
       "4.9     22990.000000\n",
       "5.0     36849.833333\n",
       "Name: Selling Price, dtype: float64"
      ]
     },
     "execution_count": 43,
     "metadata": {},
     "output_type": "execute_result"
    }
   ],
   "source": [
    "df_non_miss.groupby('Rating')['Selling Price'].mean()"
   ]
  },
  {
   "cell_type": "code",
   "execution_count": 44,
   "metadata": {},
   "outputs": [
    {
     "data": {
      "text/plain": [
       "63093.06153846154"
      ]
     },
     "execution_count": 44,
     "metadata": {},
     "output_type": "execute_result"
    }
   ],
   "source": [
    "df[df['Rating'].isnull()]['Selling Price'].mean()"
   ]
  },
  {
   "cell_type": "code",
   "execution_count": 45,
   "metadata": {},
   "outputs": [
    {
     "data": {
      "text/plain": [
       "count      2806.000000\n",
       "mean      23910.539558\n",
       "std       25666.067716\n",
       "min        1000.000000\n",
       "25%        9900.000000\n",
       "50%       14999.000000\n",
       "75%       25999.000000\n",
       "max      179900.000000\n",
       "Name: Selling Price, dtype: float64"
      ]
     },
     "execution_count": 45,
     "metadata": {},
     "output_type": "execute_result"
    }
   ],
   "source": [
    "df_non_miss['Selling Price'].describe() #68% of the data lies between mean+std and mean-std "
   ]
  },
  {
   "cell_type": "code",
   "execution_count": 46,
   "metadata": {},
   "outputs": [
    {
     "data": {
      "text/plain": [
       "<AxesSubplot:xlabel='Selling Price'>"
      ]
     },
     "execution_count": 46,
     "metadata": {},
     "output_type": "execute_result"
    },
    {
     "data": {
      "image/png": "[encoded data removed]",
      "text/plain": [
       "<Figure size 640x480 with 1 Axes>"
      ]
     },
     "metadata": {},
     "output_type": "display_data"
    }
   ],
   "source": [
    "sns.boxplot(df_non_miss['Selling Price'])"
   ]
  },
  {
   "cell_type": "code",
   "execution_count": 48,
   "metadata": {},
   "outputs": [
    {
     "data": {
      "text/plain": [
       "4.233820384889522"
      ]
     },
     "execution_count": 48,
     "metadata": {},
     "output_type": "execute_result"
    }
   ],
   "source": [
    "df_non_miss['Rating'].mean() #Basic handling of nulls "
   ]
  },
  {
   "cell_type": "code",
   "execution_count": null,
   "metadata": {},
   "outputs": [],
   "source": [
    "## Normal Imputing \n",
    "## Average Imputing \n",
    "## KNN Imputing \n",
    "## Iterative Imputer\n",
    "## Dropping"
   ]
  },
  {
   "cell_type": "code",
   "execution_count": 49,
   "metadata": {},
   "outputs": [
    {
     "data": {
      "text/html": [
       "<div>\n",
       "<style scoped>\n",
       "    .dataframe tbody tr th:only-of-type {\n",
       "        vertical-align: middle;\n",
       "    }\n",
       "\n",
       "    .dataframe tbody tr th {\n",
       "        vertical-align: top;\n",
       "    }\n",
       "\n",
       "    .dataframe thead th {\n",
       "        text-align: right;\n",
       "    }\n",
       "</style>\n",
       "<table border=\"1\" class=\"dataframe\">\n",
       "  <thead>\n",
       "    <tr style=\"text-align: right;\">\n",
       "      <th></th>\n",
       "      <th>Brand</th>\n",
       "      <th>Model</th>\n",
       "      <th>Color</th>\n",
       "      <th>Memory</th>\n",
       "      <th>Storage</th>\n",
       "      <th>Rating</th>\n",
       "      <th>Selling Price</th>\n",
       "      <th>Original Price</th>\n",
       "    </tr>\n",
       "  </thead>\n",
       "  <tbody>\n",
       "    <tr>\n",
       "      <th>0</th>\n",
       "      <td>OPPO</td>\n",
       "      <td>A53</td>\n",
       "      <td>Moonlight Black</td>\n",
       "      <td>4 GB</td>\n",
       "      <td>64 GB</td>\n",
       "      <td>4.5</td>\n",
       "      <td>11990</td>\n",
       "      <td>15990</td>\n",
       "    </tr>\n",
       "    <tr>\n",
       "      <th>1</th>\n",
       "      <td>OPPO</td>\n",
       "      <td>A53</td>\n",
       "      <td>Mint Cream</td>\n",
       "      <td>4 GB</td>\n",
       "      <td>64 GB</td>\n",
       "      <td>4.5</td>\n",
       "      <td>11990</td>\n",
       "      <td>15990</td>\n",
       "    </tr>\n",
       "    <tr>\n",
       "      <th>2</th>\n",
       "      <td>OPPO</td>\n",
       "      <td>A53</td>\n",
       "      <td>Moonlight Black</td>\n",
       "      <td>6 GB</td>\n",
       "      <td>128 GB</td>\n",
       "      <td>4.3</td>\n",
       "      <td>13990</td>\n",
       "      <td>17990</td>\n",
       "    </tr>\n",
       "    <tr>\n",
       "      <th>3</th>\n",
       "      <td>OPPO</td>\n",
       "      <td>A53</td>\n",
       "      <td>Mint Cream</td>\n",
       "      <td>6 GB</td>\n",
       "      <td>128 GB</td>\n",
       "      <td>4.3</td>\n",
       "      <td>13990</td>\n",
       "      <td>17990</td>\n",
       "    </tr>\n",
       "    <tr>\n",
       "      <th>4</th>\n",
       "      <td>OPPO</td>\n",
       "      <td>A53</td>\n",
       "      <td>Electric Black</td>\n",
       "      <td>4 GB</td>\n",
       "      <td>64 GB</td>\n",
       "      <td>4.5</td>\n",
       "      <td>11990</td>\n",
       "      <td>15990</td>\n",
       "    </tr>\n",
       "    <tr>\n",
       "      <th>...</th>\n",
       "      <td>...</td>\n",
       "      <td>...</td>\n",
       "      <td>...</td>\n",
       "      <td>...</td>\n",
       "      <td>...</td>\n",
       "      <td>...</td>\n",
       "      <td>...</td>\n",
       "      <td>...</td>\n",
       "    </tr>\n",
       "    <tr>\n",
       "      <th>3109</th>\n",
       "      <td>SAMSUNG</td>\n",
       "      <td>M52 5G</td>\n",
       "      <td>Blazing Black</td>\n",
       "      <td>6 GB</td>\n",
       "      <td>128 GB</td>\n",
       "      <td>4.3</td>\n",
       "      <td>25990</td>\n",
       "      <td>25990</td>\n",
       "    </tr>\n",
       "    <tr>\n",
       "      <th>3110</th>\n",
       "      <td>SAMSUNG</td>\n",
       "      <td>M52 5G</td>\n",
       "      <td>Icy Blue</td>\n",
       "      <td>6 GB</td>\n",
       "      <td>128 GB</td>\n",
       "      <td>4.3</td>\n",
       "      <td>25489</td>\n",
       "      <td>28449</td>\n",
       "    </tr>\n",
       "    <tr>\n",
       "      <th>3111</th>\n",
       "      <td>SAMSUNG</td>\n",
       "      <td>M52 5G</td>\n",
       "      <td>Icy Blue</td>\n",
       "      <td>8 GB</td>\n",
       "      <td>128 GB</td>\n",
       "      <td>4.3</td>\n",
       "      <td>27239</td>\n",
       "      <td>31489</td>\n",
       "    </tr>\n",
       "    <tr>\n",
       "      <th>3112</th>\n",
       "      <td>SAMSUNG</td>\n",
       "      <td>M52 5G</td>\n",
       "      <td>Slate Black</td>\n",
       "      <td>8 GB</td>\n",
       "      <td>128 GB</td>\n",
       "      <td>4.2</td>\n",
       "      <td>22989</td>\n",
       "      <td>22989</td>\n",
       "    </tr>\n",
       "    <tr>\n",
       "      <th>3113</th>\n",
       "      <td>SAMSUNG</td>\n",
       "      <td>M52 5G</td>\n",
       "      <td>Sky Blue</td>\n",
       "      <td>8 GB</td>\n",
       "      <td>128 GB</td>\n",
       "      <td>4.2</td>\n",
       "      <td>20350</td>\n",
       "      <td>22595</td>\n",
       "    </tr>\n",
       "  </tbody>\n",
       "</table>\n",
       "<p>3006 rows × 8 columns</p>\n",
       "</div>"
      ],
      "text/plain": [
       "        Brand   Model            Color Memory Storage  Rating  Selling Price  \\\n",
       "0        OPPO     A53  Moonlight Black   4 GB   64 GB     4.5          11990   \n",
       "1        OPPO     A53       Mint Cream   4 GB   64 GB     4.5          11990   \n",
       "2        OPPO     A53  Moonlight Black   6 GB  128 GB     4.3          13990   \n",
       "3        OPPO     A53       Mint Cream   6 GB  128 GB     4.3          13990   \n",
       "4        OPPO     A53   Electric Black   4 GB   64 GB     4.5          11990   \n",
       "...       ...     ...              ...    ...     ...     ...            ...   \n",
       "3109  SAMSUNG  M52 5G    Blazing Black   6 GB  128 GB     4.3          25990   \n",
       "3110  SAMSUNG  M52 5G         Icy Blue   6 GB  128 GB     4.3          25489   \n",
       "3111  SAMSUNG  M52 5G         Icy Blue   8 GB  128 GB     4.3          27239   \n",
       "3112  SAMSUNG  M52 5G      Slate Black   8 GB  128 GB     4.2          22989   \n",
       "3113  SAMSUNG  M52 5G         Sky Blue   8 GB  128 GB     4.2          20350   \n",
       "\n",
       "      Original Price  \n",
       "0              15990  \n",
       "1              15990  \n",
       "2              17990  \n",
       "3              17990  \n",
       "4              15990  \n",
       "...              ...  \n",
       "3109           25990  \n",
       "3110           28449  \n",
       "3111           31489  \n",
       "3112           22989  \n",
       "3113           22595  \n",
       "\n",
       "[3006 rows x 8 columns]"
      ]
     },
     "execution_count": 49,
     "metadata": {},
     "output_type": "execute_result"
    }
   ],
   "source": [
    "df['Color'].\n"
   ]
  },
  {
   "cell_type": "code",
   "execution_count": null,
   "metadata": {},
   "outputs": [],
   "source": []
  },
  {
   "cell_type": "markdown",
   "metadata": {},
   "source": [
    "### Observation Folowchart \n",
    "\n",
    "* Clean column names and make it useful\n",
    "* Info\n",
    "* Duplicates\n",
    "* Missing Value - Identification \n",
    "* Seprate Column type - cat, num - descrete and continuous, boolean, text, datetime\n",
    "* All features above, take .info and .describe \n",
    "* Corresponding plots \n",
    "* Outliers Observation \n"
   ]
  },
  {
   "cell_type": "markdown",
   "metadata": {},
   "source": [
    "### Feature Engineering\n",
    "\n",
    "* Based on the inferences and observation made above, make functions to handle data - This includes handling Missing values, Outliers, encoding of categorical variables etc etc\n",
    "* Split and scale data - standard scaling "
   ]
  },
  {
   "cell_type": "markdown",
   "metadata": {},
   "source": [
    "### Modelling \n",
    "\n",
    "* Apply various models and get the best model performace - The best one will be selected for the final python script. "
   ]
  },
  {
   "cell_type": "code",
   "execution_count": null,
   "metadata": {},
   "outputs": [],
   "source": []
  }
 ],
 "metadata": {
  "kernelspec": {
   "display_name": "Python 3 (ipykernel)",
   "language": "python",
   "name": "python3"
  },
  "language_info": {
   "codemirror_mode": {
    "name": "ipython",
    "version": 3
   },
   "file_extension": ".py",
   "mimetype": "text/x-python",
   "name": "python",
   "nbconvert_exporter": "python",
   "pygments_lexer": "ipython3",
   "version": "3.10.0"
  },
  "vscode": {
   "interpreter": {
    "hash": "519d2782d341e845a8df50eee5a2b961d28aebdeea6592b654ae20273216cf3d"
   }
  }
 },
 "nbformat": 4,
 "nbformat_minor": 2
}
